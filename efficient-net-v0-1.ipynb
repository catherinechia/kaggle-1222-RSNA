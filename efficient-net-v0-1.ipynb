{
 "cells": [
  {
   "cell_type": "markdown",
   "id": "f8d2d6ca",
   "metadata": {
    "papermill": {
     "duration": 0.01299,
     "end_time": "2023-06-28T15:54:55.930994",
     "exception": false,
     "start_time": "2023-06-28T15:54:55.918004",
     "status": "completed"
    },
    "tags": []
   },
   "source": [
    "Hey Catherine! This is the commented notebook. I copied the baseline from someone in the discussion panel. But I added comment on everything.\n",
    "Hey Victor! Great work! I saw some references but do you have the reference to the original baseline code?"
   ]
  },
  {
   "cell_type": "markdown",
   "id": "9c32491a",
   "metadata": {
    "execution": {
     "iopub.status.busy": "2022-07-29T07:11:03.457277Z"
    },
    "papermill": {
     "duration": 0.009254,
     "end_time": "2023-06-28T15:54:55.950169",
     "exception": false,
     "start_time": "2023-06-28T15:54:55.940915",
     "status": "completed"
    },
    "pycharm": {
     "name": "#%% md\n"
    },
    "tags": []
   },
   "source": [
    "# RSNA - EfficientNet Version 0.1 [TF]\n",
    "_____\n",
    "\n",
    "### EfficientNet\n",
    "\n",
    "EfficientNet is one of the most solid baselines known today. It is a family of convolutional neural networks that have achieved state-of-the-art accuracy on ImageNet while also being smaller and faster than other models.\n",
    "The main idea of EfficientNet is scaling up CNNs in a principled way. It uses a scalable architecture, named compound scaling, which balances network depth, width, and resolution to achieve superior performance.\n",
    "The image below shows the scaling method in more detail.\n",
    "\n",
    "![](https://i.ibb.co/Y86KGDg/image4-1.png)\n",
    "\n",
    "#### Model Size (B5)\n",
    "\n",
    "As written above, the main claim of efficientnet is providing a method for scaling up neural networks. \n",
    "Using this approach, the authors of the paper released the official efficientnet architecture scaled to various sizes [B0, B1, B2.. B7. And two monstrosities L1 and L2].\n",
    "As it is usually empirically the case (Also hinted by the [Scaling Laws for Neural Language Models](https://arxiv.org/abs/2001.08361)): Performance increase with model size. \n",
    "On this notebook we use the **B5** variant of efficientnet. \n",
    "Feel free to experiment with larger sizes."
   ]
  },
  {
   "cell_type": "markdown",
   "id": "94da23c9",
   "metadata": {
    "papermill": {
     "duration": 0.009306,
     "end_time": "2023-06-28T15:54:55.969227",
     "exception": false,
     "start_time": "2023-06-28T15:54:55.959921",
     "status": "completed"
    },
    "tags": []
   },
   "source": [
    "**Installations [Hidden cell]**"
   ]
  },
  {
   "cell_type": "code",
   "execution_count": 1,
   "id": "de46a40c",
   "metadata": {
    "_kg_hide-input": true,
    "_kg_hide-output": true,
    "execution": {
     "iopub.execute_input": "2023-06-28T15:54:55.990380Z",
     "iopub.status.busy": "2023-06-28T15:54:55.989835Z",
     "iopub.status.idle": "2023-06-28T15:55:02.374590Z",
     "shell.execute_reply": "2023-06-28T15:55:02.373473Z"
    },
    "papermill": {
     "duration": 6.398603,
     "end_time": "2023-06-28T15:55:02.377519",
     "exception": false,
     "start_time": "2023-06-28T15:54:55.978916",
     "status": "completed"
    },
    "tags": []
   },
   "outputs": [],
   "source": [
    "import sys\n",
    "sys.path.append('../input/kerasapplications')\n",
    "sys.path.append('../input/efficientnet-keras-source-code/')\n",
    "import keras_applications\n",
    "import efficientnet.tfkeras as efficientnet\n",
    "\n",
    "# This cell imports the model \"Efficientnet\", which is a pretrained model\n",
    "# We are doing transfer learning for now"
   ]
  },
  {
   "cell_type": "markdown",
   "id": "b9cb3766",
   "metadata": {
    "papermill": {
     "duration": 0.00938,
     "end_time": "2023-06-28T15:55:02.396845",
     "exception": false,
     "start_time": "2023-06-28T15:55:02.387465",
     "status": "completed"
    },
    "tags": []
   },
   "source": [
    "### Imports"
   ]
  },
  {
   "cell_type": "code",
   "execution_count": 2,
   "id": "4554d597",
   "metadata": {
    "execution": {
     "iopub.execute_input": "2023-06-28T15:55:02.420624Z",
     "iopub.status.busy": "2023-06-28T15:55:02.418545Z",
     "iopub.status.idle": "2023-06-28T15:55:03.208599Z",
     "shell.execute_reply": "2023-06-28T15:55:03.207576Z"
    },
    "papermill": {
     "duration": 0.803611,
     "end_time": "2023-06-28T15:55:03.211281",
     "exception": false,
     "start_time": "2023-06-28T15:55:02.407670",
     "status": "completed"
    },
    "pycharm": {
     "name": "#%%\n"
    },
    "tags": []
   },
   "outputs": [],
   "source": [
    "import os\n",
    "import cv2\n",
    "import glob\n",
    "import traceback\n",
    "import cv2 as cv\n",
    "import numpy as np\n",
    "import pandas as pd\n",
    "from path import Path\n",
    "from tqdm import tqdm\n",
    "import nibabel as nib\n",
    "import pydicom as dicom\n",
    "import tensorflow as tf\n",
    "from keras import layers\n",
    "from pydicom import dcmread\n",
    "from tensorflow import keras\n",
    "import tensorflow_hub as hub\n",
    "import matplotlib.pyplot as plt\n",
    "from tensorflow.keras import backend as K\n",
    "from pydicom.data import get_testdata_files\n",
    "from tensorflow.keras.utils import to_categorical\n",
    "from sklearn.model_selection import StratifiedKFold\n",
    "from pydicom.pixel_data_handlers.util import apply_voi_lut\n",
    "from tensorflow.keras.layers import Input, Dense, Flatten, Conv2D\n",
    "from tensorflow.keras.preprocessing.image import load_img, img_to_array"
   ]
  },
  {
   "cell_type": "markdown",
   "id": "95ae2a99",
   "metadata": {
    "papermill": {
     "duration": 0.009469,
     "end_time": "2023-06-28T15:55:03.230720",
     "exception": false,
     "start_time": "2023-06-28T15:55:03.221251",
     "status": "completed"
    },
    "tags": []
   },
   "source": [
    "### Data Loading\n",
    "\n",
    "> **Note:** Mean target calculation for a baseline submission."
   ]
  },
  {
   "cell_type": "markdown",
   "id": "1d19d97d",
   "metadata": {
    "papermill": {
     "duration": 0.009193,
     "end_time": "2023-06-28T15:55:03.249456",
     "exception": false,
     "start_time": "2023-06-28T15:55:03.240263",
     "status": "completed"
    },
    "tags": []
   },
   "source": [
    "I'm printing the important stuff but we'll come to it later. When we create the submission. \n",
    "For now we are just loading the csv."
   ]
  },
  {
   "cell_type": "code",
   "execution_count": 3,
   "id": "7803381e",
   "metadata": {
    "execution": {
     "iopub.execute_input": "2023-06-28T15:55:03.270573Z",
     "iopub.status.busy": "2023-06-28T15:55:03.269626Z",
     "iopub.status.idle": "2023-06-28T15:55:03.329198Z",
     "shell.execute_reply": "2023-06-28T15:55:03.328206Z"
    },
    "papermill": {
     "duration": 0.073653,
     "end_time": "2023-06-28T15:55:03.332482",
     "exception": false,
     "start_time": "2023-06-28T15:55:03.258829",
     "status": "completed"
    },
    "pycharm": {
     "name": "#%%\n"
    },
    "tags": []
   },
   "outputs": [
    {
     "name": "stderr",
     "output_type": "stream",
     "text": [
      "/opt/conda/lib/python3.7/site-packages/ipykernel_launcher.py:2: DeprecationWarning: `np.object` is a deprecated alias for the builtin `object`. To silence this warning, use `object` by itself. Doing this will not modify any behavior and is safe. \n",
      "Deprecated in NumPy 1.20; for more details and guidance: https://numpy.org/devdocs/release/1.20.0-notes.html#deprecations\n",
      "  \n"
     ]
    }
   ],
   "source": [
    "# All this chunck of code is to prepare the test for the prediction/submission\n",
    "bad = np.array([['1.2.826.0.1.3680043.10197_C1', '1.2.826.0.1.3680043.10197','C1'],['1.2.826.0.1.3680043.10454_C1', '1.2.826.0.1.3680043.10454','C1'],['1.2.826.0.1.3680043.10690_C1', '1.2.826.0.1.3680043.10690','C1']], dtype=np.object)\n",
    "\n",
    "train_df = pd.read_csv(\"../input/rsna-2022-cervical-spine-fracture-detection/train.csv\")\n",
    "test_df = pd.read_csv(\"../input/rsna-2022-cervical-spine-fracture-detection/test.csv\")\n",
    "\n",
    "train_dir = '../input/rsna-2022-cervical-spine-fracture-detection/train_images'\n",
    "test_dir = '../input/rsna-2022-cervical-spine-fracture-detection/test_images'\n",
    "first_image = os.path.join(test_dir, test_df['StudyInstanceUID'].iloc[0])\n",
    "\n",
    "new_submission = []\n",
    "means = train_df.median(numeric_only=True).to_dict()\n",
    "means = dict(zip(train_df.columns[1:], np.average(train_df[train_df.columns[1:]], axis=0, weights=train_df[\"patient_overall\"] + 1)))\n",
    "prediction_type = test_df['prediction_type'].tolist()\n",
    "submission = pd.read_csv('../input/rsna-2022-cervical-spine-fracture-detection/sample_submission.csv')\n",
    "for i in range(len(submission)):        \n",
    "    new_submission.append(means[prediction_type[i]])\n",
    "submission['fractured'] = new_submission\n",
    "\n",
    "\n",
    "if(test_df.values[0][0] == bad[0][0]): test_df = pd.DataFrame({\"row_id\": ['1.2.826.0.1.3680043.22327_C1', '1.2.826.0.1.3680043.25399_C1', '1.2.826.0.1.3680043.5876_C1'], \"StudyInstanceUID\": ['1.2.826.0.1.3680043.22327', '1.2.826.0.1.3680043.25399', '1.2.826.0.1.3680043.5876'], \"prediction_type\": [\"C1\", \"C1\", \"C1\"]})  \n",
    "prediction_type_mapping = test_df['prediction_type'].map({'C1': 0, 'C2': 1, 'C3': 2, 'C4': 3, 'C5': 4, 'C6': 5, 'C7': 6}).values"
   ]
  },
  {
   "cell_type": "code",
   "execution_count": 4,
   "id": "6dc803ca",
   "metadata": {
    "execution": {
     "iopub.execute_input": "2023-06-28T15:55:03.353244Z",
     "iopub.status.busy": "2023-06-28T15:55:03.352930Z",
     "iopub.status.idle": "2023-06-28T15:55:03.367807Z",
     "shell.execute_reply": "2023-06-28T15:55:03.366815Z"
    },
    "papermill": {
     "duration": 0.027925,
     "end_time": "2023-06-28T15:55:03.370153",
     "exception": false,
     "start_time": "2023-06-28T15:55:03.342228",
     "status": "completed"
    },
    "tags": []
   },
   "outputs": [
    {
     "data": {
      "text/html": [
       "<div>\n",
       "<style scoped>\n",
       "    .dataframe tbody tr th:only-of-type {\n",
       "        vertical-align: middle;\n",
       "    }\n",
       "\n",
       "    .dataframe tbody tr th {\n",
       "        vertical-align: top;\n",
       "    }\n",
       "\n",
       "    .dataframe thead th {\n",
       "        text-align: right;\n",
       "    }\n",
       "</style>\n",
       "<table border=\"1\" class=\"dataframe\">\n",
       "  <thead>\n",
       "    <tr style=\"text-align: right;\">\n",
       "      <th></th>\n",
       "      <th>row_id</th>\n",
       "      <th>StudyInstanceUID</th>\n",
       "      <th>prediction_type</th>\n",
       "    </tr>\n",
       "  </thead>\n",
       "  <tbody>\n",
       "    <tr>\n",
       "      <th>0</th>\n",
       "      <td>1.2.826.0.1.3680043.22327_C1</td>\n",
       "      <td>1.2.826.0.1.3680043.22327</td>\n",
       "      <td>C1</td>\n",
       "    </tr>\n",
       "    <tr>\n",
       "      <th>1</th>\n",
       "      <td>1.2.826.0.1.3680043.25399_C1</td>\n",
       "      <td>1.2.826.0.1.3680043.25399</td>\n",
       "      <td>C1</td>\n",
       "    </tr>\n",
       "    <tr>\n",
       "      <th>2</th>\n",
       "      <td>1.2.826.0.1.3680043.5876_C1</td>\n",
       "      <td>1.2.826.0.1.3680043.5876</td>\n",
       "      <td>C1</td>\n",
       "    </tr>\n",
       "  </tbody>\n",
       "</table>\n",
       "</div>"
      ],
      "text/plain": [
       "                         row_id           StudyInstanceUID prediction_type\n",
       "0  1.2.826.0.1.3680043.22327_C1  1.2.826.0.1.3680043.22327              C1\n",
       "1  1.2.826.0.1.3680043.25399_C1  1.2.826.0.1.3680043.25399              C1\n",
       "2   1.2.826.0.1.3680043.5876_C1   1.2.826.0.1.3680043.5876              C1"
      ]
     },
     "execution_count": 4,
     "metadata": {},
     "output_type": "execute_result"
    }
   ],
   "source": [
    "test_df"
   ]
  },
  {
   "cell_type": "code",
   "execution_count": 5,
   "id": "a4c79951",
   "metadata": {
    "execution": {
     "iopub.execute_input": "2023-06-28T15:55:03.392265Z",
     "iopub.status.busy": "2023-06-28T15:55:03.390747Z",
     "iopub.status.idle": "2023-06-28T15:55:03.397640Z",
     "shell.execute_reply": "2023-06-28T15:55:03.396656Z"
    },
    "papermill": {
     "duration": 0.019836,
     "end_time": "2023-06-28T15:55:03.399910",
     "exception": false,
     "start_time": "2023-06-28T15:55:03.380074",
     "status": "completed"
    },
    "tags": []
   },
   "outputs": [
    {
     "data": {
      "text/plain": [
       "array([['1.2.826.0.1.3680043.10197_C1', '1.2.826.0.1.3680043.10197',\n",
       "        'C1'],\n",
       "       ['1.2.826.0.1.3680043.10454_C1', '1.2.826.0.1.3680043.10454',\n",
       "        'C1'],\n",
       "       ['1.2.826.0.1.3680043.10690_C1', '1.2.826.0.1.3680043.10690',\n",
       "        'C1']], dtype=object)"
      ]
     },
     "execution_count": 5,
     "metadata": {},
     "output_type": "execute_result"
    }
   ],
   "source": [
    "bad"
   ]
  },
  {
   "cell_type": "code",
   "execution_count": 6,
   "id": "b47b3dff",
   "metadata": {
    "execution": {
     "iopub.execute_input": "2023-06-28T15:55:03.420855Z",
     "iopub.status.busy": "2023-06-28T15:55:03.420569Z",
     "iopub.status.idle": "2023-06-28T15:55:03.430137Z",
     "shell.execute_reply": "2023-06-28T15:55:03.429217Z"
    },
    "papermill": {
     "duration": 0.022505,
     "end_time": "2023-06-28T15:55:03.432247",
     "exception": false,
     "start_time": "2023-06-28T15:55:03.409742",
     "status": "completed"
    },
    "tags": []
   },
   "outputs": [
    {
     "data": {
      "text/html": [
       "<div>\n",
       "<style scoped>\n",
       "    .dataframe tbody tr th:only-of-type {\n",
       "        vertical-align: middle;\n",
       "    }\n",
       "\n",
       "    .dataframe tbody tr th {\n",
       "        vertical-align: top;\n",
       "    }\n",
       "\n",
       "    .dataframe thead th {\n",
       "        text-align: right;\n",
       "    }\n",
       "</style>\n",
       "<table border=\"1\" class=\"dataframe\">\n",
       "  <thead>\n",
       "    <tr style=\"text-align: right;\">\n",
       "      <th></th>\n",
       "      <th>row_id</th>\n",
       "      <th>fractured</th>\n",
       "    </tr>\n",
       "  </thead>\n",
       "  <tbody>\n",
       "    <tr>\n",
       "      <th>0</th>\n",
       "      <td>1.2.826.0.1.3680043.10197_C1</td>\n",
       "      <td>0.097987</td>\n",
       "    </tr>\n",
       "    <tr>\n",
       "      <th>1</th>\n",
       "      <td>1.2.826.0.1.3680043.10454_C1</td>\n",
       "      <td>0.097987</td>\n",
       "    </tr>\n",
       "    <tr>\n",
       "      <th>2</th>\n",
       "      <td>1.2.826.0.1.3680043.10690_C1</td>\n",
       "      <td>0.097987</td>\n",
       "    </tr>\n",
       "  </tbody>\n",
       "</table>\n",
       "</div>"
      ],
      "text/plain": [
       "                         row_id  fractured\n",
       "0  1.2.826.0.1.3680043.10197_C1   0.097987\n",
       "1  1.2.826.0.1.3680043.10454_C1   0.097987\n",
       "2  1.2.826.0.1.3680043.10690_C1   0.097987"
      ]
     },
     "execution_count": 6,
     "metadata": {},
     "output_type": "execute_result"
    }
   ],
   "source": [
    "submission"
   ]
  },
  {
   "cell_type": "code",
   "execution_count": 7,
   "id": "3bc349ee",
   "metadata": {
    "execution": {
     "iopub.execute_input": "2023-06-28T15:55:03.455131Z",
     "iopub.status.busy": "2023-06-28T15:55:03.454202Z",
     "iopub.status.idle": "2023-06-28T15:55:03.461023Z",
     "shell.execute_reply": "2023-06-28T15:55:03.459992Z"
    },
    "papermill": {
     "duration": 0.020801,
     "end_time": "2023-06-28T15:55:03.463230",
     "exception": false,
     "start_time": "2023-06-28T15:55:03.442429",
     "status": "completed"
    },
    "tags": []
   },
   "outputs": [
    {
     "data": {
      "text/plain": [
       "[0.09798657718120805, 0.09798657718120805, 0.09798657718120805]"
      ]
     },
     "execution_count": 7,
     "metadata": {},
     "output_type": "execute_result"
    }
   ],
   "source": [
    "new_submission"
   ]
  },
  {
   "cell_type": "code",
   "execution_count": 8,
   "id": "dcea4dd3",
   "metadata": {
    "execution": {
     "iopub.execute_input": "2023-06-28T15:55:03.485635Z",
     "iopub.status.busy": "2023-06-28T15:55:03.484830Z",
     "iopub.status.idle": "2023-06-28T15:55:03.491201Z",
     "shell.execute_reply": "2023-06-28T15:55:03.490219Z"
    },
    "papermill": {
     "duration": 0.019928,
     "end_time": "2023-06-28T15:55:03.493375",
     "exception": false,
     "start_time": "2023-06-28T15:55:03.473447",
     "status": "completed"
    },
    "tags": []
   },
   "outputs": [
    {
     "data": {
      "text/plain": [
       "array([0, 0, 0])"
      ]
     },
     "execution_count": 8,
     "metadata": {},
     "output_type": "execute_result"
    }
   ],
   "source": [
    "prediction_type_mapping"
   ]
  },
  {
   "cell_type": "code",
   "execution_count": 9,
   "id": "57e51dfe",
   "metadata": {
    "execution": {
     "iopub.execute_input": "2023-06-28T15:55:03.515434Z",
     "iopub.status.busy": "2023-06-28T15:55:03.514660Z",
     "iopub.status.idle": "2023-06-28T15:55:03.524867Z",
     "shell.execute_reply": "2023-06-28T15:55:03.523888Z"
    },
    "papermill": {
     "duration": 0.023476,
     "end_time": "2023-06-28T15:55:03.527031",
     "exception": false,
     "start_time": "2023-06-28T15:55:03.503555",
     "status": "completed"
    },
    "tags": []
   },
   "outputs": [
    {
     "data": {
      "text/html": [
       "<div>\n",
       "<style scoped>\n",
       "    .dataframe tbody tr th:only-of-type {\n",
       "        vertical-align: middle;\n",
       "    }\n",
       "\n",
       "    .dataframe tbody tr th {\n",
       "        vertical-align: top;\n",
       "    }\n",
       "\n",
       "    .dataframe thead th {\n",
       "        text-align: right;\n",
       "    }\n",
       "</style>\n",
       "<table border=\"1\" class=\"dataframe\">\n",
       "  <thead>\n",
       "    <tr style=\"text-align: right;\">\n",
       "      <th></th>\n",
       "      <th>row_id</th>\n",
       "      <th>StudyInstanceUID</th>\n",
       "      <th>prediction_type</th>\n",
       "    </tr>\n",
       "  </thead>\n",
       "  <tbody>\n",
       "    <tr>\n",
       "      <th>0</th>\n",
       "      <td>1.2.826.0.1.3680043.22327_C1</td>\n",
       "      <td>1.2.826.0.1.3680043.22327</td>\n",
       "      <td>C1</td>\n",
       "    </tr>\n",
       "    <tr>\n",
       "      <th>1</th>\n",
       "      <td>1.2.826.0.1.3680043.25399_C1</td>\n",
       "      <td>1.2.826.0.1.3680043.25399</td>\n",
       "      <td>C1</td>\n",
       "    </tr>\n",
       "    <tr>\n",
       "      <th>2</th>\n",
       "      <td>1.2.826.0.1.3680043.5876_C1</td>\n",
       "      <td>1.2.826.0.1.3680043.5876</td>\n",
       "      <td>C1</td>\n",
       "    </tr>\n",
       "  </tbody>\n",
       "</table>\n",
       "</div>"
      ],
      "text/plain": [
       "                         row_id           StudyInstanceUID prediction_type\n",
       "0  1.2.826.0.1.3680043.22327_C1  1.2.826.0.1.3680043.22327              C1\n",
       "1  1.2.826.0.1.3680043.25399_C1  1.2.826.0.1.3680043.25399              C1\n",
       "2   1.2.826.0.1.3680043.5876_C1   1.2.826.0.1.3680043.5876              C1"
      ]
     },
     "execution_count": 9,
     "metadata": {},
     "output_type": "execute_result"
    }
   ],
   "source": [
    "test_df"
   ]
  },
  {
   "cell_type": "markdown",
   "id": "d81f5c74",
   "metadata": {
    "papermill": {
     "duration": 0.010282,
     "end_time": "2023-06-28T15:55:03.548165",
     "exception": false,
     "start_time": "2023-06-28T15:55:03.537883",
     "status": "completed"
    },
    "tags": []
   },
   "source": [
    "#### Utility Functions & Variables\n",
    "\n",
    "- **load_dicom:** For loading (and converting) a single dicom image.\n",
    "- **lisdirs:** For listing the data directory.\n",
    "- **train_dir / test_dir:** used later on for fast switching between train & validation paths"
   ]
  },
  {
   "cell_type": "code",
   "execution_count": 10,
   "id": "af4f91bb",
   "metadata": {
    "execution": {
     "iopub.execute_input": "2023-06-28T15:55:03.571583Z",
     "iopub.status.busy": "2023-06-28T15:55:03.570015Z",
     "iopub.status.idle": "2023-06-28T15:55:03.855340Z",
     "shell.execute_reply": "2023-06-28T15:55:03.854341Z"
    },
    "papermill": {
     "duration": 0.299821,
     "end_time": "2023-06-28T15:55:03.858420",
     "exception": false,
     "start_time": "2023-06-28T15:55:03.558599",
     "status": "completed"
    },
    "pycharm": {
     "name": "#%%\n"
    },
    "tags": []
   },
   "outputs": [],
   "source": [
    "def load_dicom(path, size = 64):\n",
    "    try:\n",
    "        # Read the dicom image\n",
    "        img=dicom.dcmread(path)\n",
    "        img.PhotometricInterpretation = 'YBR_FULL'\n",
    "        # extract the array\n",
    "        data=img.pixel_array\n",
    "        #Standarisation\n",
    "        data=data-np.min(data)\n",
    "        if np.max(data) != 0:\n",
    "            data=data/np.max(data)\n",
    "        # This is augmented to scale 0-255 for easier manipulation\n",
    "        data=(data*255).astype(np.uint8)\n",
    "        # Change to gray scale\n",
    "        return cv2.cvtColor(data.reshape(512, 512), cv2.COLOR_GRAY2RGB)\n",
    "    except:        \n",
    "        # If there is an error with the image, it returns an empty img\n",
    "        return np.zeros((512, 512, 3))\n",
    "\n",
    "def listdirs(folder):\n",
    "    return [d for d in os.listdir(folder) if os.path.isdir(os.path.join(folder, d))]    \n",
    "\n",
    "train_dir = '../input/rsna-2022-cervical-spine-fracture-detection/train_images'\n",
    "test_dir = '../input/rsna-2022-cervical-spine-fracture-detection/test_images'\n",
    "patients = sorted(os.listdir(train_dir))"
   ]
  },
  {
   "cell_type": "markdown",
   "id": "d3236a63",
   "metadata": {
    "papermill": {
     "duration": 0.014283,
     "end_time": "2023-06-28T15:55:03.891254",
     "exception": false,
     "start_time": "2023-06-28T15:55:03.876971",
     "status": "completed"
    },
    "tags": []
   },
   "source": [
    "#### Quick Visualizations\n",
    "\n",
    "> **Credit:** This great [notebook](https://www.kaggle.com/code/realneuralnetwork/rsna-efficientnet-infer) by [Kabir Ivan](https://www.kaggle.com/realneuralnetwork)\n",
    "\n",
    "Simple sanity test - mainly for testing out the load_dicom function.load_dicom"
   ]
  },
  {
   "cell_type": "markdown",
   "id": "f1161282",
   "metadata": {
    "papermill": {
     "duration": 0.010523,
     "end_time": "2023-06-28T15:55:03.912253",
     "exception": false,
     "start_time": "2023-06-28T15:55:03.901730",
     "status": "completed"
    },
    "tags": []
   },
   "source": [
    "Uncomment to visualize"
   ]
  },
  {
   "cell_type": "markdown",
   "id": "b6f67e43",
   "metadata": {
    "papermill": {
     "duration": 0.010295,
     "end_time": "2023-06-28T15:55:03.933098",
     "exception": false,
     "start_time": "2023-06-28T15:55:03.922803",
     "status": "completed"
    },
    "tags": []
   },
   "source": [
    "**Training Samples**"
   ]
  },
  {
   "cell_type": "code",
   "execution_count": 11,
   "id": "96953090",
   "metadata": {
    "execution": {
     "iopub.execute_input": "2023-06-28T15:55:03.959046Z",
     "iopub.status.busy": "2023-06-28T15:55:03.958401Z",
     "iopub.status.idle": "2023-06-28T15:55:03.963003Z",
     "shell.execute_reply": "2023-06-28T15:55:03.962027Z"
    },
    "papermill": {
     "duration": 0.021639,
     "end_time": "2023-06-28T15:55:03.965110",
     "exception": false,
     "start_time": "2023-06-28T15:55:03.943471",
     "status": "completed"
    },
    "pycharm": {
     "name": "#%%\n"
    },
    "tags": []
   },
   "outputs": [],
   "source": [
    "# image_file = glob.glob(\"../input/rsna-2022-cervical-spine-fracture-detection/train_images/1.2.826.0.1.3680043.10001/*.dcm\")\n",
    "# plt.figure(figsize=(20, 20))\n",
    "\n",
    "# for i in range(28):\n",
    "#     ax = plt.subplot(7, 7, i + 1)\n",
    "#     image_path = image_file[i]\n",
    "#     image = load_dicom(image_path)\n",
    "#     plt.axis('off')   \n",
    "#     plt.imshow(image)"
   ]
  },
  {
   "cell_type": "markdown",
   "id": "48809fdc",
   "metadata": {
    "papermill": {
     "duration": 0.010231,
     "end_time": "2023-06-28T15:55:03.985698",
     "exception": false,
     "start_time": "2023-06-28T15:55:03.975467",
     "status": "completed"
    },
    "tags": []
   },
   "source": [
    "**Targets**"
   ]
  },
  {
   "cell_type": "code",
   "execution_count": 12,
   "id": "2c7463eb",
   "metadata": {
    "execution": {
     "iopub.execute_input": "2023-06-28T15:55:04.008356Z",
     "iopub.status.busy": "2023-06-28T15:55:04.007757Z",
     "iopub.status.idle": "2023-06-28T15:55:04.012113Z",
     "shell.execute_reply": "2023-06-28T15:55:04.011185Z"
    },
    "papermill": {
     "duration": 0.018315,
     "end_time": "2023-06-28T15:55:04.014372",
     "exception": false,
     "start_time": "2023-06-28T15:55:03.996057",
     "status": "completed"
    },
    "pycharm": {
     "name": "#%%\n"
    },
    "tags": []
   },
   "outputs": [],
   "source": [
    "# image_file = glob.glob(\"../input/rsna-2022-cervical-spine-fracture-detection/segmentations/*.nii\")\n",
    "# plt.figure(figsize=(20, 20))\n",
    "\n",
    "# for i in range(28):\n",
    "#     ax = plt.subplot(7, 7, i + 1)\n",
    "#     image_path = image_file[i]\n",
    "#     nii_img = nib.load(image_path).get_fdata()\n",
    "#     nib_image = nii_img[:,:,59]\n",
    "#     plt.axis('off')\n",
    "#     plt.imshow(nib_image)"
   ]
  },
  {
   "cell_type": "markdown",
   "id": "8e2c636e",
   "metadata": {
    "papermill": {
     "duration": 0.010334,
     "end_time": "2023-06-28T15:55:04.035939",
     "exception": false,
     "start_time": "2023-06-28T15:55:04.025605",
     "status": "completed"
    },
    "pycharm": {
     "name": "#%% md\n"
    },
    "tags": []
   },
   "source": [
    "### Data Generators\n",
    "\n",
    "Since the training data can be a bit large, we load it batch by batch when training & inference.\n",
    "This is done through simple keras generators. "
   ]
  },
  {
   "cell_type": "markdown",
   "id": "96dab042",
   "metadata": {
    "papermill": {
     "duration": 0.010307,
     "end_time": "2023-06-28T15:55:04.056876",
     "exception": false,
     "start_time": "2023-06-28T15:55:04.046569",
     "status": "completed"
    },
    "pycharm": {
     "name": "#%% md\n"
    },
    "tags": []
   },
   "source": [
    "#### Train Generator \n",
    "\n",
    "- Also yields labels"
   ]
  },
  {
   "cell_type": "code",
   "execution_count": 13,
   "id": "6183cac6",
   "metadata": {
    "execution": {
     "iopub.execute_input": "2023-06-28T15:55:04.095483Z",
     "iopub.status.busy": "2023-06-28T15:55:04.090659Z",
     "iopub.status.idle": "2023-06-28T15:55:04.119602Z",
     "shell.execute_reply": "2023-06-28T15:55:04.117871Z"
    },
    "papermill": {
     "duration": 0.050044,
     "end_time": "2023-06-28T15:55:04.123016",
     "exception": false,
     "start_time": "2023-06-28T15:55:04.072972",
     "status": "completed"
    },
    "pycharm": {
     "name": "#%%\n"
    },
    "tags": []
   },
   "outputs": [],
   "source": [
    "def RSNATrainGenerator(train_df, batch_size, infinite = True, base_path = train_dir):\n",
    "    while True: # this will be running during the whole training.\n",
    "        # Initialize the sets\n",
    "        trainset = []\n",
    "        trainidt = []\n",
    "        trainlabel = []\n",
    "        for i in (range(len(train_df))): # Thjs can be considered the epoch lenght\n",
    "            idt = train_df.loc[i, 'StudyInstanceUID'] # Select one patient at time\n",
    "            path = os.path.join(train_dir, idt)\n",
    "            for im in os.listdir(path): # Iterate over the images\n",
    "                dc = dicom.read_file(os.path.join(path,im))\n",
    "                if dc.file_meta.TransferSyntaxUID.name =='JPEG Lossless, Non-Hierarchical, First-Order Prediction (Process 14 [Selection Value 1])':\n",
    "                    continue\n",
    "                img = load_dicom(os.path.join(path , im)) #Load DICOM\n",
    "                img = cv.resize(img, (128 , 128))         # Resize\n",
    "                image = img_to_array(img)                 # Keras util to extract array from image\n",
    "                image = image / 255.0                     # Standarizing values to [0,1]\n",
    "                trainset += [image]                       # Appending to list\n",
    "                cur_label = []                            # Adding labels\n",
    "                cur_label.append(train_df.loc[i,'C1'])\n",
    "                cur_label.append(train_df.loc[i,'C2'])\n",
    "                cur_label.append(train_df.loc[i,'C3'])\n",
    "                cur_label.append(train_df.loc[i,'C4'])\n",
    "                cur_label.append(train_df.loc[i,'C5'])\n",
    "                cur_label.append(train_df.loc[i,'C6'])\n",
    "                cur_label.append(train_df.loc[i,'C7'])\n",
    "                trainlabel += [cur_label]\n",
    "                trainidt += [idt]\n",
    "                if len(trainidt) == batch_size:          # If a batch is completed, yield and restart          \n",
    "                    yield np.array(trainset), np.array(trainlabel) # yield is a keyword like \"return\" but it doesn't stop the function\n",
    "                    trainset, trainlabel, trainidt = [], [], []\n",
    "            i+=1"
   ]
  },
  {
   "cell_type": "markdown",
   "id": "69aa7ee4",
   "metadata": {
    "papermill": {
     "duration": 0.017635,
     "end_time": "2023-06-28T15:55:04.157922",
     "exception": false,
     "start_time": "2023-06-28T15:55:04.140287",
     "status": "completed"
    },
    "tags": []
   },
   "source": [
    "#### Test Generator\n",
    "\n",
    "- Yields only image samples"
   ]
  },
  {
   "cell_type": "code",
   "execution_count": 14,
   "id": "5bff2b57",
   "metadata": {
    "execution": {
     "iopub.execute_input": "2023-06-28T15:55:04.181923Z",
     "iopub.status.busy": "2023-06-28T15:55:04.181564Z",
     "iopub.status.idle": "2023-06-28T15:55:04.192654Z",
     "shell.execute_reply": "2023-06-28T15:55:04.191761Z"
    },
    "papermill": {
     "duration": 0.024946,
     "end_time": "2023-06-28T15:55:04.194792",
     "exception": false,
     "start_time": "2023-06-28T15:55:04.169846",
     "status": "completed"
    },
    "pycharm": {
     "name": "#%%\n"
    },
    "tags": []
   },
   "outputs": [],
   "source": [
    "#Same with tests\n",
    "def RSNATestGenerator(test_df, batch_size, infinite = True, base_path = test_dir):\n",
    "    while 1:        \n",
    "        testset=[]\n",
    "        testidt=[]\n",
    "        for i in (range(len(test_df))):        \n",
    "            if type(test_df) is list: idt = test_df[i]\n",
    "            else: idt = test_df['StudyInstanceUID'].iloc[i]\n",
    "            path = os.path.join(base_path, idt)\n",
    "            if os.path.exists(path):\n",
    "                for im in os.listdir(path):\n",
    "                    dc = dicom.read_file(os.path.join(path,im))\n",
    "                    if dc.file_meta.TransferSyntaxUID.name =='JPEG Lossless, Non-Hierarchical, First-Order Prediction (Process 14 [Selection Value 1])':\n",
    "                        continue\n",
    "                    img=load_dicom(os.path.join(path,im))\n",
    "                    img=cv.resize(img,(128, 128))\n",
    "                    image=img_to_array(img)\n",
    "                    image=image/255.0\n",
    "                    testset+=[image]\n",
    "                    testidt+=[idt]\n",
    "                    if len(testset) == batch_size:                        \n",
    "                        yield np.array(testset)\n",
    "                        testset = []\n",
    "        if len(testset) > 0: yield np.array(testset)\n",
    "        if not infinite: break"
   ]
  },
  {
   "cell_type": "markdown",
   "id": "bc5ad34c",
   "metadata": {
    "papermill": {
     "duration": 0.010235,
     "end_time": "2023-06-28T15:55:04.215433",
     "exception": false,
     "start_time": "2023-06-28T15:55:04.205198",
     "status": "completed"
    },
    "tags": []
   },
   "source": [
    "#### The Model\n",
    "\n",
    "> **Note:** The training data loads as a single channel image, we use a simple `Conv2D` to align it to be a 3 channel image (As expected by efficientnet)."
   ]
  },
  {
   "cell_type": "code",
   "execution_count": 15,
   "id": "daadeb0a",
   "metadata": {
    "execution": {
     "iopub.execute_input": "2023-06-28T15:55:04.238421Z",
     "iopub.status.busy": "2023-06-28T15:55:04.237603Z",
     "iopub.status.idle": "2023-06-28T15:55:04.245284Z",
     "shell.execute_reply": "2023-06-28T15:55:04.244361Z"
    },
    "papermill": {
     "duration": 0.021439,
     "end_time": "2023-06-28T15:55:04.247365",
     "exception": false,
     "start_time": "2023-06-28T15:55:04.225926",
     "status": "completed"
    },
    "pycharm": {
     "name": "#%%\n"
    },
    "tags": []
   },
   "outputs": [],
   "source": [
    "def get_model():\n",
    "    # Define the input. Here is None for the transfer learning stuff. Check the Tensorflow tutorial to know more\n",
    "    inp = keras.layers.Input((None, None ,1))\n",
    "    # First Conv2D to extract the info\n",
    "    x = Conv2D(3, 64, padding = 'SAME')(inp)\n",
    "    #The pretrained model\n",
    "    x = efficientnet.EfficientNetB6(include_top=False, weights='../input/efficientnet-keras-dataset/weights/efficientnet-b6_noisy-student_notop.h5')(x)\n",
    "    x = keras.layers.GlobalAveragePooling2D()(x)\n",
    "    # The output layer returns a probability for each vertebra. \n",
    "    out = keras.layers.Dense(7, 'sigmoid')(x)\n",
    "    # The next three lines are putting the model togheter\n",
    "    model = keras.models.Model(inp, out)\n",
    "    model.summary()\n",
    "    model.compile(loss=\"binary_crossentropy\", optimizer = tf.keras.optimizers.Adam(learning_rate = 0.0001))\n",
    "    return model"
   ]
  },
  {
   "cell_type": "markdown",
   "id": "f40a832f",
   "metadata": {
    "papermill": {
     "duration": 0.010234,
     "end_time": "2023-06-28T15:55:04.267924",
     "exception": false,
     "start_time": "2023-06-28T15:55:04.257690",
     "status": "completed"
    },
    "tags": []
   },
   "source": [
    "#### Main Training Cell\n",
    "\n",
    "We use a stratified (based on patient_overall) KFold split and train 5 different models. "
   ]
  },
  {
   "cell_type": "code",
   "execution_count": 16,
   "id": "4bcb319a",
   "metadata": {
    "execution": {
     "iopub.execute_input": "2023-06-28T15:55:04.291126Z",
     "iopub.status.busy": "2023-06-28T15:55:04.290360Z",
     "iopub.status.idle": "2023-06-28T15:55:04.295598Z",
     "shell.execute_reply": "2023-06-28T15:55:04.294726Z"
    },
    "papermill": {
     "duration": 0.018759,
     "end_time": "2023-06-28T15:55:04.297717",
     "exception": false,
     "start_time": "2023-06-28T15:55:04.278958",
     "status": "completed"
    },
    "tags": []
   },
   "outputs": [],
   "source": [
    "# Defining callbacks. Special instructions during training\n",
    "Early = keras.callbacks.EarlyStopping(monitor = 'val_loss', patience = 5, restore_best_weights = True)\n",
    "callbacks = [\n",
    "    Early    \n",
    "]"
   ]
  },
  {
   "cell_type": "code",
   "execution_count": 17,
   "id": "2cfe9b54",
   "metadata": {
    "execution": {
     "iopub.execute_input": "2023-06-28T15:55:04.320305Z",
     "iopub.status.busy": "2023-06-28T15:55:04.319526Z",
     "iopub.status.idle": "2023-06-28T16:02:22.109528Z",
     "shell.execute_reply": "2023-06-28T16:02:22.108440Z"
    },
    "papermill": {
     "duration": 437.804135,
     "end_time": "2023-06-28T16:02:22.112372",
     "exception": false,
     "start_time": "2023-06-28T15:55:04.308237",
     "status": "completed"
    },
    "tags": []
   },
   "outputs": [
    {
     "name": "stdout",
     "output_type": "stream",
     "text": [
      "Model: \"model\"\n",
      "_________________________________________________________________\n",
      "Layer (type)                 Output Shape              Param #   \n",
      "=================================================================\n",
      "input_1 (InputLayer)         [(None, None, None, 1)]   0         \n",
      "_________________________________________________________________\n",
      "conv2d (Conv2D)              (None, None, None, 3)     12291     \n",
      "_________________________________________________________________\n",
      "efficientnet-b6 (Functional) (None, None, None, 2304)  40960136  \n",
      "_________________________________________________________________\n",
      "global_average_pooling2d (Gl (None, 2304)              0         \n",
      "_________________________________________________________________\n",
      "dense (Dense)                (None, 7)                 16135     \n",
      "=================================================================\n",
      "Total params: 40,988,562\n",
      "Trainable params: 40,764,130\n",
      "Non-trainable params: 224,432\n",
      "_________________________________________________________________\n"
     ]
    },
    {
     "name": "stderr",
     "output_type": "stream",
     "text": [
      "/opt/conda/lib/python3.7/site-packages/keras/engine/training.py:1972: UserWarning: `Model.fit_generator` is deprecated and will be removed in a future version. Please use `Model.fit`, which supports generators.\n",
      "  warnings.warn('`Model.fit_generator` is deprecated and '\n"
     ]
    },
    {
     "name": "stdout",
     "output_type": "stream",
     "text": [
      "Epoch 1/50\n",
      "25/25 [==============================] - 85s 2s/step - loss: 0.6293 - val_loss: 0.6247\n",
      "Epoch 2/50\n",
      "25/25 [==============================] - 43s 2s/step - loss: 0.3184 - val_loss: 0.1361\n",
      "Epoch 3/50\n",
      "25/25 [==============================] - 43s 2s/step - loss: 0.3870 - val_loss: 0.0737\n",
      "Epoch 4/50\n",
      "25/25 [==============================] - 45s 2s/step - loss: 0.4695 - val_loss: 0.1413\n",
      "Epoch 5/50\n",
      "25/25 [==============================] - 47s 2s/step - loss: 0.7186 - val_loss: 0.4719\n",
      "Epoch 6/50\n",
      "25/25 [==============================] - 55s 2s/step - loss: 0.4370 - val_loss: 0.3446\n",
      "Epoch 7/50\n",
      "25/25 [==============================] - 46s 2s/step - loss: 0.3492 - val_loss: 0.1865\n",
      "Epoch 8/50\n",
      "25/25 [==============================] - 52s 2s/step - loss: 0.2082 - val_loss: 0.3250\n"
     ]
    },
    {
     "name": "stderr",
     "output_type": "stream",
     "text": [
      "/opt/conda/lib/python3.7/site-packages/keras/engine/training.py:2035: UserWarning: `Model.predict_generator` is deprecated and will be removed in a future version. Please use `Model.predict`, which supports generators.\n",
      "  warnings.warn('`Model.predict_generator` is deprecated and '\n"
     ]
    }
   ],
   "source": [
    "# # for train_idx, val_idx in StratifiedKFold(5).split(train_df, train_df['patient_overall']):    \n",
    "# #     K.clear_session()\n",
    "# Defining train and validation sets. 80%-20%\n",
    "x_train = train_df.iloc[:1616].reset_index()\n",
    "x_val = train_df.iloc[1616:].reset_index()\n",
    "model = get_model()\n",
    "# fitting the model with the data yield from the generator\n",
    "hist = model.fit_generator(                            \n",
    "                                RSNATrainGenerator(x_train, min(len(x_train), 64), infinite = False, base_path = train_dir),\n",
    "                                epochs = 50,\n",
    "                                verbose = 1,\n",
    "                                callbacks = [callbacks],\n",
    "                                validation_steps = max((len(x_val) // 64), 1),\n",
    "                                steps_per_epoch = max((len(x_train) // 64), 1),\n",
    "                                validation_data = RSNATrainGenerator(x_val, min(len(x_val), 64), infinite = False, base_path = train_dir),\n",
    "                          )\n",
    "\n",
    "# Here, we do the same with the validation to check model validation loss\n",
    "val_pred = model.predict_generator(RSNATestGenerator(x_val, min(len(test_df), 64), infinite = False, base_path = train_dir), steps = max((len(test_df) // 64), 1))  "
   ]
  },
  {
   "cell_type": "code",
   "execution_count": 18,
   "id": "deb12219",
   "metadata": {
    "execution": {
     "iopub.execute_input": "2023-06-28T16:02:22.166836Z",
     "iopub.status.busy": "2023-06-28T16:02:22.165838Z",
     "iopub.status.idle": "2023-06-28T16:02:22.501524Z",
     "shell.execute_reply": "2023-06-28T16:02:22.500505Z"
    },
    "papermill": {
     "duration": 0.365382,
     "end_time": "2023-06-28T16:02:22.504099",
     "exception": false,
     "start_time": "2023-06-28T16:02:22.138717",
     "status": "completed"
    },
    "pycharm": {
     "name": "#%%\n"
    },
    "tags": []
   },
   "outputs": [],
   "source": [
    "try: # predictions\n",
    "    preds = model.predict_generator(RSNATestGenerator(test_df, min(len(test_df), 64), infinite = False, base_path = test_dir), steps = max((len(test_df) // 64), 1))\n",
    "\n",
    "    new_preds = []\n",
    "    for pred_idx in range(len(preds)):\n",
    "        new_preds.append(preds[pred_idx][prediction_type_mapping[pred_idx]])\n",
    "    # submission['fractured'] += preds[:, prediction_type_mapping] / 5\n",
    "    submission['fractured'] += np.array(new_preds) / 5\n",
    "\n",
    "except: traceback.print_exc()    "
   ]
  },
  {
   "cell_type": "code",
   "execution_count": 19,
   "id": "7d3b0006",
   "metadata": {
    "execution": {
     "iopub.execute_input": "2023-06-28T16:02:22.558602Z",
     "iopub.status.busy": "2023-06-28T16:02:22.558263Z",
     "iopub.status.idle": "2023-06-28T16:02:22.563600Z",
     "shell.execute_reply": "2023-06-28T16:02:22.562667Z"
    },
    "papermill": {
     "duration": 0.035224,
     "end_time": "2023-06-28T16:02:22.565715",
     "exception": false,
     "start_time": "2023-06-28T16:02:22.530491",
     "status": "completed"
    },
    "pycharm": {
     "name": "#%%\n"
    },
    "tags": []
   },
   "outputs": [],
   "source": [
    "#submission"
   ]
  },
  {
   "cell_type": "markdown",
   "id": "69bab07f",
   "metadata": {
    "papermill": {
     "duration": 0.025561,
     "end_time": "2023-06-28T16:02:22.617995",
     "exception": false,
     "start_time": "2023-06-28T16:02:22.592434",
     "status": "completed"
    },
    "tags": []
   },
   "source": [
    "#### Submission"
   ]
  },
  {
   "cell_type": "code",
   "execution_count": 20,
   "id": "a3035adb",
   "metadata": {
    "execution": {
     "iopub.execute_input": "2023-06-28T16:02:22.670977Z",
     "iopub.status.busy": "2023-06-28T16:02:22.670670Z",
     "iopub.status.idle": "2023-06-28T16:02:22.680365Z",
     "shell.execute_reply": "2023-06-28T16:02:22.679442Z"
    },
    "papermill": {
     "duration": 0.038697,
     "end_time": "2023-06-28T16:02:22.682627",
     "exception": false,
     "start_time": "2023-06-28T16:02:22.643930",
     "status": "completed"
    },
    "pycharm": {
     "name": "#%%\n"
    },
    "tags": []
   },
   "outputs": [],
   "source": [
    "submission.to_csv('submission.csv', index = 0)"
   ]
  },
  {
   "cell_type": "code",
   "execution_count": null,
   "id": "9b301e1b",
   "metadata": {
    "papermill": {
     "duration": 0.025819,
     "end_time": "2023-06-28T16:02:22.734606",
     "exception": false,
     "start_time": "2023-06-28T16:02:22.708787",
     "status": "completed"
    },
    "tags": []
   },
   "outputs": [],
   "source": []
  }
 ],
 "metadata": {
  "kernelspec": {
   "display_name": "Python 3",
   "language": "python",
   "name": "python3"
  },
  "language_info": {
   "codemirror_mode": {
    "name": "ipython",
    "version": 3
   },
   "file_extension": ".py",
   "mimetype": "text/x-python",
   "name": "python",
   "nbconvert_exporter": "python",
   "pygments_lexer": "ipython3",
   "version": "3.7.12"
  },
  "papermill": {
   "default_parameters": {},
   "duration": 459.642903,
   "end_time": "2023-06-28T16:02:26.342387",
   "environment_variables": {},
   "exception": null,
   "input_path": "__notebook__.ipynb",
   "output_path": "__notebook__.ipynb",
   "parameters": {},
   "start_time": "2023-06-28T15:54:46.699484",
   "version": "2.3.4"
  }
 },
 "nbformat": 4,
 "nbformat_minor": 5
}
